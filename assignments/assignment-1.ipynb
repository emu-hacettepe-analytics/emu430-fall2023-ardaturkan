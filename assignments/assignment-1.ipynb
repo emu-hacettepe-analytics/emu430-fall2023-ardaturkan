{
  "cells": [
    {
      "cell_type": "raw",
      "metadata": {},
      "source": [
        "---\n",
        "title: \"Assignment 1\"\n",
        "date: last-modified\n",
        "format:\n",
        "  html:\n",
        "    toc: true\n",
        "    toc-depth: 3\n",
        "    toc-tite: Contents\n",
        "    toc-location: right\n",
        "    smooth-scroll: true\n",
        "    anchor-sections: true\n",
        "---"
      ],
      "id": "001f064e"
    },
    {
      "cell_type": "markdown",
      "metadata": {},
      "source": [
        "## Overview\n",
        "\n",
        "This assignment consists of three parts.\n",
        "\n",
        "1.  A Brief Summary of ...\n",
        "\n",
        "2.  Three differences between R and Python.\n",
        "\n",
        "3.  Examining and handling \"NA Values\" on a sample data.\n",
        "\n",
        "## A Brief Summary of ...\n",
        "\n",
        "## Three Differences Between R and Python.\n",
        "\n",
        "Although there are many similarities between Python and R languages that are frequently used today, there are also very clear and fundamental differences. We can summarize these three fundamental differences as follows:\n",
        "\n",
        "### Assignment Operator\n",
        "\n",
        "While in Python, the assignment operator is a single equality sign \"=\", in R, the assignment operator can also be expressed as \"\\<-\", and for the sake of code clarity and convention, the use of \"\\<-\" is recommended by the community.\n",
        "\n",
        "``` python\n",
        "{python}\n",
        "due_date_assignment = \"November 03, 2023\" \n",
        "due_date_assignment\n",
        "```\n"
      ],
      "id": "a8b0454d"
    },
    {
      "cell_type": "code",
      "metadata": {},
      "source": [
        "due_date_assignment = \"November 03, 2023\" \n",
        "due_date_assignment"
      ],
      "id": "69dff987",
      "execution_count": null,
      "outputs": []
    },
    {
      "cell_type": "markdown",
      "metadata": {},
      "source": [
        "``` r\n",
        "{r}\n",
        "due_date_assignment <- \"November 03, 2023\"\n",
        "```\n",
        "\n",
        "### Indentation\n",
        "\n",
        "### Indexing\n",
        "\n",
        "## Examining and Handling \"NA Values\" on a Sample Data."
      ],
      "id": "9167de6c"
    }
  ],
  "metadata": {
    "kernelspec": {
      "display_name": "Python 3",
      "language": "python",
      "name": "python3"
    }
  },
  "nbformat": 4,
  "nbformat_minor": 5
}